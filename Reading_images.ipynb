{
  "nbformat": 4,
  "nbformat_minor": 0,
  "metadata": {
    "colab": {
      "name": "Reading images.ipynb",
      "provenance": [],
      "collapsed_sections": []
    },
    "kernelspec": {
      "name": "python3",
      "display_name": "Python 3"
    },
    "language_info": {
      "name": "python"
    }
  },
  "cells": [
    {
      "cell_type": "markdown",
      "source": [
        "**Top image preprocessing libraries are  **                                    \n",
        "Scikit image , opencv , Pillow (PIL) - does not import image as numpy array "
      ],
      "metadata": {
        "id": "-MgXAyydfQMD"
      }
    },
    {
      "cell_type": "code",
      "source": [
        "import skimage\n"
      ],
      "metadata": {
        "id": "0LPzyGypflnf"
      },
      "execution_count": null,
      "outputs": []
    },
    {
      "cell_type": "code",
      "source": [
        "from skimage import io"
      ],
      "metadata": {
        "id": "ztobhKQ_f6sC"
      },
      "execution_count": null,
      "outputs": []
    },
    {
      "cell_type": "code",
      "source": [
        "img = io.imread(r'/content/drive/MyDrive/Data/Covid/01E392EE-69F9-4E33-BFCE-E5C968654078.jpeg')"
      ],
      "metadata": {
        "id": "ABY_61vUgkla"
      },
      "execution_count": 4,
      "outputs": []
    },
    {
      "cell_type": "code",
      "source": [
        "print(img.shape) #(height,width,channel)"
      ],
      "metadata": {
        "colab": {
          "base_uri": "https://localhost:8080/"
        },
        "id": "PtOc-xrlgyCF",
        "outputId": "eb2f9c61-0ef4-4a00-ea4a-6f87bc391378"
      },
      "execution_count": 5,
      "outputs": [
        {
          "output_type": "stream",
          "name": "stdout",
          "text": [
            "(1482, 1989, 3)\n"
          ]
        }
      ]
    },
    {
      "cell_type": "code",
      "source": [
        "print(img)"
      ],
      "metadata": {
        "colab": {
          "base_uri": "https://localhost:8080/"
        },
        "id": "sBub8hf1g7mH",
        "outputId": "41e6a6f9-d853-41bf-8265-c9705a28d997"
      },
      "execution_count": 6,
      "outputs": [
        {
          "output_type": "stream",
          "name": "stdout",
          "text": [
            "[[[182 182 182]\n",
            "  [169 169 169]\n",
            "  [152 152 152]\n",
            "  ...\n",
            "  [254 254 254]\n",
            "  [254 254 254]\n",
            "  [254 254 254]]\n",
            "\n",
            " [[165 165 165]\n",
            "  [150 150 150]\n",
            "  [138 138 138]\n",
            "  ...\n",
            "  [254 254 254]\n",
            "  [254 254 254]\n",
            "  [254 254 254]]\n",
            "\n",
            " [[146 146 146]\n",
            "  [134 134 134]\n",
            "  [128 128 128]\n",
            "  ...\n",
            "  [254 254 254]\n",
            "  [254 254 254]\n",
            "  [254 254 254]]\n",
            "\n",
            " ...\n",
            "\n",
            " [[243 243 243]\n",
            "  [244 244 244]\n",
            "  [245 245 245]\n",
            "  ...\n",
            "  [254 254 254]\n",
            "  [254 254 254]\n",
            "  [254 254 254]]\n",
            "\n",
            " [[245 245 245]\n",
            "  [245 245 245]\n",
            "  [245 245 245]\n",
            "  ...\n",
            "  [254 254 254]\n",
            "  [254 254 254]\n",
            "  [254 254 254]]\n",
            "\n",
            " [[254 254 254]\n",
            "  [254 254 254]\n",
            "  [254 254 254]\n",
            "  ...\n",
            "  [254 254 254]\n",
            "  [254 254 254]\n",
            "  [254 254 254]]]\n"
          ]
        }
      ]
    },
    {
      "cell_type": "markdown",
      "source": [
        "To convert this into floating point values of (pixels)  image and it automatically sacles images to range between 0 to 1"
      ],
      "metadata": {
        "id": "dPpiTTyZhb2f"
      }
    },
    {
      "cell_type": "code",
      "source": [
        "from skimage import img_as_float\n",
        "img2 = img_as_float(img)"
      ],
      "metadata": {
        "id": "IqcPXWoChhUN"
      },
      "execution_count": 7,
      "outputs": []
    },
    {
      "cell_type": "code",
      "source": [
        "print(img2)"
      ],
      "metadata": {
        "colab": {
          "base_uri": "https://localhost:8080/"
        },
        "id": "RYj8cPknh3Cz",
        "outputId": "1192e445-e956-4f73-92da-5f136e566aa5"
      },
      "execution_count": 8,
      "outputs": [
        {
          "output_type": "stream",
          "name": "stdout",
          "text": [
            "[[[0.71372549 0.71372549 0.71372549]\n",
            "  [0.6627451  0.6627451  0.6627451 ]\n",
            "  [0.59607843 0.59607843 0.59607843]\n",
            "  ...\n",
            "  [0.99607843 0.99607843 0.99607843]\n",
            "  [0.99607843 0.99607843 0.99607843]\n",
            "  [0.99607843 0.99607843 0.99607843]]\n",
            "\n",
            " [[0.64705882 0.64705882 0.64705882]\n",
            "  [0.58823529 0.58823529 0.58823529]\n",
            "  [0.54117647 0.54117647 0.54117647]\n",
            "  ...\n",
            "  [0.99607843 0.99607843 0.99607843]\n",
            "  [0.99607843 0.99607843 0.99607843]\n",
            "  [0.99607843 0.99607843 0.99607843]]\n",
            "\n",
            " [[0.57254902 0.57254902 0.57254902]\n",
            "  [0.5254902  0.5254902  0.5254902 ]\n",
            "  [0.50196078 0.50196078 0.50196078]\n",
            "  ...\n",
            "  [0.99607843 0.99607843 0.99607843]\n",
            "  [0.99607843 0.99607843 0.99607843]\n",
            "  [0.99607843 0.99607843 0.99607843]]\n",
            "\n",
            " ...\n",
            "\n",
            " [[0.95294118 0.95294118 0.95294118]\n",
            "  [0.95686275 0.95686275 0.95686275]\n",
            "  [0.96078431 0.96078431 0.96078431]\n",
            "  ...\n",
            "  [0.99607843 0.99607843 0.99607843]\n",
            "  [0.99607843 0.99607843 0.99607843]\n",
            "  [0.99607843 0.99607843 0.99607843]]\n",
            "\n",
            " [[0.96078431 0.96078431 0.96078431]\n",
            "  [0.96078431 0.96078431 0.96078431]\n",
            "  [0.96078431 0.96078431 0.96078431]\n",
            "  ...\n",
            "  [0.99607843 0.99607843 0.99607843]\n",
            "  [0.99607843 0.99607843 0.99607843]\n",
            "  [0.99607843 0.99607843 0.99607843]]\n",
            "\n",
            " [[0.99607843 0.99607843 0.99607843]\n",
            "  [0.99607843 0.99607843 0.99607843]\n",
            "  [0.99607843 0.99607843 0.99607843]\n",
            "  ...\n",
            "  [0.99607843 0.99607843 0.99607843]\n",
            "  [0.99607843 0.99607843 0.99607843]\n",
            "  [0.99607843 0.99607843 0.99607843]]]\n"
          ]
        }
      ]
    },
    {
      "cell_type": "markdown",
      "source": [
        "To convert image but does not changing it's range "
      ],
      "metadata": {
        "id": "k2kyAO5oihhf"
      }
    },
    {
      "cell_type": "code",
      "source": [
        "import numpy as np\n",
        "img3 = img.astype(np.float)"
      ],
      "metadata": {
        "id": "kBaEklHEig9r"
      },
      "execution_count": 9,
      "outputs": []
    },
    {
      "cell_type": "code",
      "source": [
        "print(img3)"
      ],
      "metadata": {
        "colab": {
          "base_uri": "https://localhost:8080/"
        },
        "id": "KHQGEykch4Cy",
        "outputId": "3e04b8e4-c526-4db7-effd-3adbc21e5e8c"
      },
      "execution_count": 10,
      "outputs": [
        {
          "output_type": "stream",
          "name": "stdout",
          "text": [
            "[[[182. 182. 182.]\n",
            "  [169. 169. 169.]\n",
            "  [152. 152. 152.]\n",
            "  ...\n",
            "  [254. 254. 254.]\n",
            "  [254. 254. 254.]\n",
            "  [254. 254. 254.]]\n",
            "\n",
            " [[165. 165. 165.]\n",
            "  [150. 150. 150.]\n",
            "  [138. 138. 138.]\n",
            "  ...\n",
            "  [254. 254. 254.]\n",
            "  [254. 254. 254.]\n",
            "  [254. 254. 254.]]\n",
            "\n",
            " [[146. 146. 146.]\n",
            "  [134. 134. 134.]\n",
            "  [128. 128. 128.]\n",
            "  ...\n",
            "  [254. 254. 254.]\n",
            "  [254. 254. 254.]\n",
            "  [254. 254. 254.]]\n",
            "\n",
            " ...\n",
            "\n",
            " [[243. 243. 243.]\n",
            "  [244. 244. 244.]\n",
            "  [245. 245. 245.]\n",
            "  ...\n",
            "  [254. 254. 254.]\n",
            "  [254. 254. 254.]\n",
            "  [254. 254. 254.]]\n",
            "\n",
            " [[245. 245. 245.]\n",
            "  [245. 245. 245.]\n",
            "  [245. 245. 245.]\n",
            "  ...\n",
            "  [254. 254. 254.]\n",
            "  [254. 254. 254.]\n",
            "  [254. 254. 254.]]\n",
            "\n",
            " [[254. 254. 254.]\n",
            "  [254. 254. 254.]\n",
            "  [254. 254. 254.]\n",
            "  ...\n",
            "  [254. 254. 254.]\n",
            "  [254. 254. 254.]\n",
            "  [254. 254. 254.]]]\n"
          ]
        }
      ]
    },
    {
      "cell_type": "markdown",
      "source": [
        "To convert image in its original form after doing the operations"
      ],
      "metadata": {
        "id": "iFBFJINyi4ct"
      }
    },
    {
      "cell_type": "code",
      "source": [
        "from skimage import img_as_ubyte\n",
        "\n",
        "img_8bit = img_as_ubyte(img2)\n",
        "\n",
        "print(img_8bit)"
      ],
      "metadata": {
        "colab": {
          "base_uri": "https://localhost:8080/"
        },
        "id": "I4LoBVq-itqr",
        "outputId": "b449ae53-38a1-4eb7-c4e5-d57d19382d40"
      },
      "execution_count": 11,
      "outputs": [
        {
          "output_type": "stream",
          "name": "stdout",
          "text": [
            "[[[182 182 182]\n",
            "  [169 169 169]\n",
            "  [152 152 152]\n",
            "  ...\n",
            "  [254 254 254]\n",
            "  [254 254 254]\n",
            "  [254 254 254]]\n",
            "\n",
            " [[165 165 165]\n",
            "  [150 150 150]\n",
            "  [138 138 138]\n",
            "  ...\n",
            "  [254 254 254]\n",
            "  [254 254 254]\n",
            "  [254 254 254]]\n",
            "\n",
            " [[146 146 146]\n",
            "  [134 134 134]\n",
            "  [128 128 128]\n",
            "  ...\n",
            "  [254 254 254]\n",
            "  [254 254 254]\n",
            "  [254 254 254]]\n",
            "\n",
            " ...\n",
            "\n",
            " [[243 243 243]\n",
            "  [244 244 244]\n",
            "  [245 245 245]\n",
            "  ...\n",
            "  [254 254 254]\n",
            "  [254 254 254]\n",
            "  [254 254 254]]\n",
            "\n",
            " [[245 245 245]\n",
            "  [245 245 245]\n",
            "  [245 245 245]\n",
            "  ...\n",
            "  [254 254 254]\n",
            "  [254 254 254]\n",
            "  [254 254 254]]\n",
            "\n",
            " [[254 254 254]\n",
            "  [254 254 254]\n",
            "  [254 254 254]\n",
            "  ...\n",
            "  [254 254 254]\n",
            "  [254 254 254]\n",
            "  [254 254 254]]]\n"
          ]
        }
      ]
    },
    {
      "cell_type": "markdown",
      "source": [
        "**OpenCV Library for Image preprocessing**"
      ],
      "metadata": {
        "id": "fUO_4IpIjYjK"
      }
    },
    {
      "cell_type": "code",
      "source": [
        "import cv2"
      ],
      "metadata": {
        "id": "OEdJ8TlijNOH"
      },
      "execution_count": 13,
      "outputs": []
    },
    {
      "cell_type": "code",
      "source": [
        "img_cv2 = cv2.imread(r'/content/drive/MyDrive/Data/Covid/01E392EE-69F9-4E33-BFCE-E5C968654078.jpeg')\n"
      ],
      "metadata": {
        "id": "WF5GJ-fLj-zx"
      },
      "execution_count": 14,
      "outputs": []
    },
    {
      "cell_type": "markdown",
      "source": [
        "openCV read images in the format of BGR instead of RGB"
      ],
      "metadata": {
        "id": "UdAZuBFHkWW5"
      }
    },
    {
      "cell_type": "code",
      "source": [
        "print(img_cv2)"
      ],
      "metadata": {
        "colab": {
          "base_uri": "https://localhost:8080/"
        },
        "id": "EkBYKi1lkH6s",
        "outputId": "9cd18325-6e7f-4ebe-9863-5eb7154f0e0c"
      },
      "execution_count": 15,
      "outputs": [
        {
          "output_type": "stream",
          "name": "stdout",
          "text": [
            "[[[182 182 182]\n",
            "  [169 169 169]\n",
            "  [152 152 152]\n",
            "  ...\n",
            "  [254 254 254]\n",
            "  [254 254 254]\n",
            "  [254 254 254]]\n",
            "\n",
            " [[165 165 165]\n",
            "  [150 150 150]\n",
            "  [138 138 138]\n",
            "  ...\n",
            "  [254 254 254]\n",
            "  [254 254 254]\n",
            "  [254 254 254]]\n",
            "\n",
            " [[146 146 146]\n",
            "  [134 134 134]\n",
            "  [128 128 128]\n",
            "  ...\n",
            "  [254 254 254]\n",
            "  [254 254 254]\n",
            "  [254 254 254]]\n",
            "\n",
            " ...\n",
            "\n",
            " [[243 243 243]\n",
            "  [244 244 244]\n",
            "  [245 245 245]\n",
            "  ...\n",
            "  [254 254 254]\n",
            "  [254 254 254]\n",
            "  [254 254 254]]\n",
            "\n",
            " [[245 245 245]\n",
            "  [245 245 245]\n",
            "  [245 245 245]\n",
            "  ...\n",
            "  [254 254 254]\n",
            "  [254 254 254]\n",
            "  [254 254 254]]\n",
            "\n",
            " [[254 254 254]\n",
            "  [254 254 254]\n",
            "  [254 254 254]\n",
            "  ...\n",
            "  [254 254 254]\n",
            "  [254 254 254]\n",
            "  [254 254 254]]]\n"
          ]
        }
      ]
    },
    {
      "cell_type": "markdown",
      "source": [
        "To read images in the format of greay_image"
      ],
      "metadata": {
        "id": "eH0_0Z6Mki6_"
      }
    },
    {
      "cell_type": "code",
      "source": [
        "grey_img = cv2.imread(r'/content/drive/MyDrive/Data/Covid/01E392EE-69F9-4E33-BFCE-E5C968654078.jpeg',0)"
      ],
      "metadata": {
        "id": "0n0yC9IrkM1t"
      },
      "execution_count": 16,
      "outputs": []
    },
    {
      "cell_type": "code",
      "source": [
        "print(grey_img)"
      ],
      "metadata": {
        "colab": {
          "base_uri": "https://localhost:8080/"
        },
        "id": "GlUAR0o7ksYv",
        "outputId": "74435bc9-e7ab-4182-d296-5a88d712f510"
      },
      "execution_count": 18,
      "outputs": [
        {
          "output_type": "stream",
          "name": "stdout",
          "text": [
            "[[182 169 152 ... 254 254 254]\n",
            " [165 150 138 ... 254 254 254]\n",
            " [146 134 128 ... 254 254 254]\n",
            " ...\n",
            " [243 244 245 ... 254 254 254]\n",
            " [245 245 245 ... 254 254 254]\n",
            " [254 254 254 ... 254 254 254]]\n"
          ]
        }
      ]
    },
    {
      "cell_type": "code",
      "source": [
        "print(grey_img.shape)"
      ],
      "metadata": {
        "colab": {
          "base_uri": "https://localhost:8080/"
        },
        "id": "WpuUzQQekt1s",
        "outputId": "1f2e9e15-ad5f-4815-d7aa-ee0d1ffd1bf6"
      },
      "execution_count": 19,
      "outputs": [
        {
          "output_type": "stream",
          "name": "stdout",
          "text": [
            "(1482, 1989)\n"
          ]
        }
      ]
    },
    {
      "cell_type": "markdown",
      "source": [
        "By default it will read it as BGR that is value is 1"
      ],
      "metadata": {
        "id": "os-yk2f8k2VM"
      }
    },
    {
      "cell_type": "code",
      "source": [
        "color_img = cv2.imread(r'/content/drive/MyDrive/Data/Covid/01E392EE-69F9-4E33-BFCE-E5C968654078.jpeg',1)"
      ],
      "metadata": {
        "id": "ytDXfYz2kyIz"
      },
      "execution_count": 21,
      "outputs": []
    },
    {
      "cell_type": "code",
      "source": [
        "print(color_img.shape)"
      ],
      "metadata": {
        "colab": {
          "base_uri": "https://localhost:8080/"
        },
        "id": "-_RDMQcWk-S_",
        "outputId": "4d2f2569-b519-49c2-865b-c27da8496c49"
      },
      "execution_count": 23,
      "outputs": [
        {
          "output_type": "stream",
          "name": "stdout",
          "text": [
            "(1482, 1989, 3)\n"
          ]
        }
      ]
    },
    {
      "cell_type": "markdown",
      "source": [
        "To convert image from BGR to RGB"
      ],
      "metadata": {
        "id": "0wRN6sZylMJV"
      }
    },
    {
      "cell_type": "code",
      "source": [
        "img_opencv = cv2.cvtColor(color_img , cv2.COLOR_BGR2RGB)"
      ],
      "metadata": {
        "id": "c8qaHFgzlENQ"
      },
      "execution_count": 24,
      "outputs": []
    },
    {
      "cell_type": "code",
      "source": [
        "print(img_opencv)"
      ],
      "metadata": {
        "colab": {
          "base_uri": "https://localhost:8080/"
        },
        "id": "CDrUvjsnlb7d",
        "outputId": "99d30735-eb80-4b2c-e127-7c0b433711d8"
      },
      "execution_count": 25,
      "outputs": [
        {
          "output_type": "stream",
          "name": "stdout",
          "text": [
            "[[[182 182 182]\n",
            "  [169 169 169]\n",
            "  [152 152 152]\n",
            "  ...\n",
            "  [254 254 254]\n",
            "  [254 254 254]\n",
            "  [254 254 254]]\n",
            "\n",
            " [[165 165 165]\n",
            "  [150 150 150]\n",
            "  [138 138 138]\n",
            "  ...\n",
            "  [254 254 254]\n",
            "  [254 254 254]\n",
            "  [254 254 254]]\n",
            "\n",
            " [[146 146 146]\n",
            "  [134 134 134]\n",
            "  [128 128 128]\n",
            "  ...\n",
            "  [254 254 254]\n",
            "  [254 254 254]\n",
            "  [254 254 254]]\n",
            "\n",
            " ...\n",
            "\n",
            " [[243 243 243]\n",
            "  [244 244 244]\n",
            "  [245 245 245]\n",
            "  ...\n",
            "  [254 254 254]\n",
            "  [254 254 254]\n",
            "  [254 254 254]]\n",
            "\n",
            " [[245 245 245]\n",
            "  [245 245 245]\n",
            "  [245 245 245]\n",
            "  ...\n",
            "  [254 254 254]\n",
            "  [254 254 254]\n",
            "  [254 254 254]]\n",
            "\n",
            " [[254 254 254]\n",
            "  [254 254 254]\n",
            "  [254 254 254]\n",
            "  ...\n",
            "  [254 254 254]\n",
            "  [254 254 254]\n",
            "  [254 254 254]]]\n"
          ]
        }
      ]
    },
    {
      "cell_type": "code",
      "source": [
        ""
      ],
      "metadata": {
        "id": "uEaWC4-Nld9e"
      },
      "execution_count": null,
      "outputs": []
    }
  ]
}